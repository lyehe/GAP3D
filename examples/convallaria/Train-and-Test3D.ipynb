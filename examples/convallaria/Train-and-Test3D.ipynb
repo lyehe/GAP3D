{
 "cells": [
  {
   "cell_type": "code",
   "execution_count": 1,
   "id": "a5147449",
   "metadata": {},
   "outputs": [],
   "source": [
    "# %load_ext autoreload\n",
    "# %autoreload 2\n",
    "\n",
    "from IPython.lib.deepreload import reload as dreload\n",
    "import os\n",
    "import sys\n",
    "\n",
    "import numpy as np\n",
    "import torch\n",
    "import torch.optim as optim\n",
    "import torch.utils.data as dt\n",
    "\n",
    "from skimage import io, measure\n",
    "import matplotlib.pyplot as plt\n",
    "\n",
    "from tifffile import imread, imsave\n",
    "from stackview import orthogonal as imshow \n",
    "import warnings\n",
    "warnings.filterwarnings(\"ignore\")\n",
    "\n",
    "\n",
    "if not torch.cuda.is_available():\n",
    "    raise ValueError(\"GPU not found, code will run on CPU and can be extremely slow!\")\n",
    "else:\n",
    "    device = torch.device(\"cuda:0\")\n",
    "\n",
    "import time\n",
    "from glob import glob\n",
    "import pytorch_lightning as pl\n",
    "from pytorch_lightning.callbacks import (\n",
    "    LearningRateMonitor,\n",
    "    ModelCheckpoint,\n",
    "    EarlyStopping,\n",
    ")\n",
    "\n",
    "sys.path.append(\"../../gap/\")\n",
    "from GAP_3DUNET_ResBlock import UN\n",
    "from BinomDataset import BinomDataset3D\n",
    "from inference import sample_image"
   ]
  },
  {
   "cell_type": "markdown",
   "id": "bab44ce2",
   "metadata": {},
   "source": [
    "# Training\n",
    "\n",
    "### Loading the data\n",
    "_________________\n",
    "\n",
    "We load the data. We can use the full dataset for training, since this is self-supervised and we do not require ground truth."
   ]
  },
  {
   "cell_type": "code",
   "execution_count": 2,
   "id": "aa8f8a12",
   "metadata": {},
   "outputs": [
    {
     "name": "stdout",
     "output_type": "stream",
     "text": [
      "ID  NAME                    SHAPE\n",
      "0   405Pwr20                (2, 504, 512, 512)\n",
      "1   405Pwr50                (2, 504, 512, 512)\n",
      "2   BlankA                  (2, 504, 512, 512)\n",
      "3   BlankB                  (2, 504, 512, 512)\n",
      "4   LineAccu1               (3, 517, 512, 512)\n",
      "5   LineAccu16              (3, 517, 512, 512)\n",
      "6   LineAccu4               (3, 517, 512, 512)\n",
      "7   Series049               (3, 11, 512, 512)\n",
      "8   STEDAccu16 LocationB    (1, 504, 512, 512)\n",
      "9   STEDAccu16              (1, 504, 512, 512)\n",
      "10  STEDBlankAccu16         (1, 504, 512, 512)\n"
     ]
    }
   ],
   "source": [
    "DIRPATH = \"../../../Data/sted GAP test/\"\n",
    "filePaths = [os.path.join(DIRPATH, f) for f in os.listdir(DIRPATH) if f.endswith('.tif')]\n",
    "fileNames = [os.path.splitext(os.path.basename(f))[0] for f in filePaths]\n",
    "\n",
    "dataList = []\n",
    "channelList = []\n",
    "\n",
    "# load and frint the information of the data\n",
    "print(f\"{'ID':<4}{'NAME':<24}{'SHAPE':<4}\")\n",
    "for idx, name in enumerate(fileNames):\n",
    "    data = imread(filePaths[idx])\n",
    "    if len(data.shape) == 3: data = data[:, None, ...]\n",
    "    data = data.swapaxes(0,1)\n",
    "    dataList.append(data)\n",
    "    channelList.append(data.shape[0])\n",
    "    print(f\"{idx:<3}{name[28:]:<25}{data.shape}\")"
   ]
  },
  {
   "cell_type": "code",
   "execution_count": 3,
   "id": "348a3533",
   "metadata": {},
   "outputs": [
    {
     "name": "stdout",
     "output_type": "stream",
     "text": [
      "(517, 512, 512)\n"
     ]
    }
   ],
   "source": [
    "ID = 4\n",
    "CHANNEL = 0\n",
    "NAME = fileNames[ID][28:]\n",
    "data = dataList[ID][CHANNEL]\n",
    "# imshow(data, colormap=\"magma\", display_max=3)\n",
    "print(data.shape)"
   ]
  },
  {
   "cell_type": "code",
   "execution_count": 7,
   "id": "649830e8",
   "metadata": {},
   "outputs": [
    {
     "data": {
      "image/png": "[encoded data removed]",
      "text/plain": [
       "<Figure size 640x480 with 1 Axes>"
      ]
     },
     "metadata": {},
     "output_type": "display_data"
    }
   ],
   "source": [
    "# plot the histogram of the data in log scale\n",
    "_ = plt.hist(data.flatten(), bins=np.arange(10)-0.5, log=True)\n",
    "plt.title(f\"Histogram of {NAME} and channel {CHANNEL} in log scale\")\n",
    "plt.show()"
   ]
  },
  {
   "cell_type": "code",
   "execution_count": 4,
   "id": "9d77e0a1",
   "metadata": {},
   "outputs": [
    {
     "name": "stdout",
     "output_type": "stream",
     "text": [
      " LineAccu1_C0_PSNRm40tom5_WIN32x128x128\n"
     ]
    }
   ],
   "source": [
    "def psnrToString(inp):\n",
    "    if inp < 0:\n",
    "        return \"m\" + str(-inp)\n",
    "    else:\n",
    "        return str(inp)\n",
    "\n",
    "\n",
    "# we set the pseudo PSNR range used for splitting the images into input and target\n",
    "unitThickness = 32\n",
    "windowSize = (32, 128, 128)\n",
    "WINDOWSIZESTR = \"x\".join(map(str, windowSize))\n",
    "minpsnr = -40\n",
    "maxpsnr = -5\n",
    "batch_size = 16\n",
    "\n",
    "name = f\"{NAME}_C{CHANNEL}_PSNR{psnrToString(minpsnr)}to{psnrToString(maxpsnr)}_WIN{WINDOWSIZESTR}\"\n",
    "CHECKPOINT_PATH = \"./models/\"\n",
    "\n",
    "print(name)"
   ]
  },
  {
   "cell_type": "code",
   "execution_count": 5,
   "id": "7886a3e4",
   "metadata": {},
   "outputs": [
    {
     "name": "stdout",
     "output_type": "stream",
     "text": [
      "device: cuda:0\n"
     ]
    },
    {
     "name": "stderr",
     "output_type": "stream",
     "text": [
      "GPU available: True (cuda), used: True\n",
      "TPU available: False, using: 0 TPU cores\n",
      "IPU available: False, using: 0 IPUs\n",
      "HPU available: False, using: 0 HPUs\n"
     ]
    },
    {
     "name": "stdout",
     "output_type": "stream",
     "text": [
      "torch.Size([16, 2, 32, 128, 128])\n"
     ]
    }
   ],
   "source": [
    "maxepochs = 2000  # train longer for better results\n",
    "if torch.cuda.is_available():\n",
    "    device = torch.device(\"cuda:0\")\n",
    "else:\n",
    "    device = torch.device(\"cpu\")\n",
    "    \n",
    "print('device:', device)\n",
    "\n",
    "# Create pytorch dataset\n",
    "dataset = BinomDataset3D(\n",
    "    data[: round(data.shape[0] * 0.8)],\n",
    "    unitThickness=unitThickness,\n",
    "    windowSize=windowSize,\n",
    "    rand_crop=True,\n",
    "    minPSNR=minpsnr,\n",
    "    maxPSNR=maxpsnr,\n",
    ")\n",
    "\n",
    "val_dataset = BinomDataset3D(\n",
    "    data[: round(data.shape[0] * 0.8)],\n",
    "    unitThickness=unitThickness,\n",
    "    windowSize=windowSize,\n",
    "    rand_crop=True,\n",
    "    minPSNR=minpsnr,\n",
    "    maxPSNR=maxpsnr,\n",
    ")\n",
    "\n",
    "# Create pytorch dataloader for training and validation sets\n",
    "train_loader = dt.DataLoader(\n",
    "    dataset,\n",
    "    batch_size=batch_size,\n",
    "    shuffle=True,\n",
    "    drop_last=True,\n",
    "    pin_memory=False,\n",
    "    num_workers=12,\n",
    ")\n",
    "val_loader = dt.DataLoader(\n",
    "    val_dataset,\n",
    "    batch_size=batch_size,\n",
    "    shuffle=False,\n",
    "    drop_last=False,\n",
    "    pin_memory=False,\n",
    "    num_workers=12,\n",
    ")\n",
    "\n",
    "img = next(iter(val_loader))\n",
    "\n",
    "print(img.shape)\n",
    "\n",
    "\n",
    "trainer = pl.Trainer(\n",
    "    accelerator='gpu',\n",
    "    devices=\"auto\",\n",
    "    default_root_dir=os.path.join(CHECKPOINT_PATH, name),\n",
    "    gradient_clip_val=0.5,\n",
    "    max_epochs=maxepochs,\n",
    "    callbacks=[\n",
    "        ModelCheckpoint(save_weights_only=True, mode=\"min\", monitor=\"val_loss\"),\n",
    "        LearningRateMonitor(\"epoch\"),\n",
    "        EarlyStopping(\"val_loss\", patience=2000),\n",
    "    ],\n",
    ")\n",
    "\n",
    "model = UN(channels=1, levels=10, depth=6, start_filts=32, up_mode=\"transpose\").to(\n",
    "    device\n",
    ")"
   ]
  },
  {
   "cell_type": "code",
   "execution_count": 11,
   "id": "ae5e59d0",
   "metadata": {},
   "outputs": [],
   "source": [
    "# trainer.fit(model, train_loader, val_loader)\n",
    "trainer.save_checkpoint(os.path.join(CHECKPOINT_PATH, name)+'.ckpt')"
   ]
  },
  {
   "cell_type": "markdown",
   "id": "9919ea87",
   "metadata": {},
   "source": [
    "# Denoising"
   ]
  },
  {
   "cell_type": "code",
   "execution_count": 6,
   "id": "d18052f2",
   "metadata": {},
   "outputs": [],
   "source": [
    "model = UN.load_from_checkpoint(os.path.join(CHECKPOINT_PATH, name)+'.ckpt').to(\"cpu\")"
   ]
  },
  {
   "cell_type": "code",
   "execution_count": 16,
   "id": "97c19d40",
   "metadata": {},
   "outputs": [
    {
     "data": {
      "application/vnd.jupyter.widget-view+json": {
       "model_id": "69ca7842810742009f7289e6bec87a9a",
       "version_major": 2,
       "version_minor": 0
      },
      "text/plain": [
       "HBox(children=(VBox(children=(HBox(children=(VBox(children=(ImageWidget(height=1024, width=1024),)),)), IntSli…"
      ]
     },
     "execution_count": 16,
     "metadata": {},
     "output_type": "execute_result"
    }
   ],
   "source": [
    "# dataTest = imread('./data/testData.tif')[:1]     # to speed things up, we are only doing the first image\n",
    "# dataTestGT =imread('./data/testDataGT.tif')[:1]\n",
    "z, y, x = (0, 0, 0)\n",
    "dataTest1 = data[z : z + 256, x : x + 512, y : y + 512]\n",
    "dataTest2 = data[256 : 256 + 256, x : x + 512, y : y + 512]\n",
    "\n",
    "imshow(np.concatenate((dataTest1, dataTest2), axis=0), zoom_factor=2, colormap=\"magma\")\n"
   ]
  },
  {
   "cell_type": "code",
   "execution_count": 17,
   "id": "19c07ed9",
   "metadata": {},
   "outputs": [],
   "source": [
    "dataTestB = torch.from_numpy(dataTest1).float()\n",
    "out = torch.exp(model(dataTestB[None, None, ...]))\n",
    "out = dataTest1.sum() * out / out.sum()\n",
    "dataTest1 = out.detach().numpy()[0,0]\n",
    "del out, dataTestB\n",
    "dataTestB = torch.from_numpy(dataTest2).float()\n",
    "out = torch.exp(model(dataTestB[None, None, ...]))\n",
    "out = dataTest1.sum() * out / out.sum()\n",
    "dataTest2 = out.detach().numpy()[0,0]\n",
    "del out, dataTestB\n",
    "\n",
    "imshow(np.concatenate((dataTest1, dataTest2), axis=0), zoom_factor=2, colormap=\"magma\")"
   ]
  },
  {
   "cell_type": "code",
   "execution_count": 12,
   "id": "93ea8d10",
   "metadata": {},
   "outputs": [],
   "source": [
    "del out"
   ]
  },
  {
   "cell_type": "markdown",
   "id": "c20b8588",
   "metadata": {},
   "source": [
    "# Sampling images"
   ]
  },
  {
   "cell_type": "code",
   "execution_count": null,
   "id": "b70bb388",
   "metadata": {},
   "outputs": [],
   "source": [
    "import matplotlib.image as mpimg\n",
    "import time\n",
    "import numpy as np\n",
    "\n",
    "# We are starting with an image containing zeros,\n",
    "# i.e., sampling from scratch\n",
    "\n",
    "# we just have 1 channel\n",
    "channels = 1\n",
    "# we can sample multiple images at the same time in a batch\n",
    "batch_size = 1\n",
    "# for best results this should correspond to training pach size\n",
    "pixels_x = 256\n",
    "pixels_y = 256\n",
    "\n",
    "inp_img =  torch.zeros(batch_size ,channels, pixels_y, pixels_x).to(device)\n",
    "\n",
    "\n",
    "for i in range(1):\n",
    "    \n",
    "\n",
    "    startTime = time.time()\n",
    "    \n",
    "    # sampling the image(s)\n",
    "    denoised, photons, stack, iterations = sample_image(inp_img,\n",
    "                                                        model, \n",
    "                                                        beta = 0.05,\n",
    "                                                        save_every_n = 10,\n",
    "                                                        max_psnr = -5)\n",
    "\n",
    "    \n",
    "    # In case we do multiple images in a batch, we show all of them.\n",
    "    for j in range(denoised.shape[0]):\n",
    "#         print(iterations)\n",
    "\n",
    "            print(denoised.shape)\n",
    "            plt.figure(figsize = (5,5))\n",
    "            plt.imshow(denoised[j,0], cmap='inferno', vmin = 0,\n",
    "                       vmax = np.percentile(denoised[j],99.99))\n",
    "            plt.title('Denoisied')\n",
    "            plt.show()\n",
    "            \n",
    "            plt.figure(figsize = (5,5))\n",
    "            plt.imshow(photons[j,0], cmap='inferno', vmin = 0,\n",
    "                       vmax = np.percentile(photons[j],99.99))\n",
    "            plt.title('Photon counts')\n",
    "            plt.show()\n",
    "            \n",
    "            \n",
    "    \n",
    "    print('_______________________________________', iterations)\n",
    "    \n",
    "    \n",
    "    \n",
    "    \n",
    "    endTime = time.time()\n",
    "    elapsedTime = endTime - startTime\n",
    "    print ('time (s):', elapsedTime, 'time per image (s)', elapsedTime/denoised.shape[0])\n",
    "   "
   ]
  },
  {
   "cell_type": "markdown",
   "id": "02486e73",
   "metadata": {},
   "source": [
    "## Looking at the intermediate outputs"
   ]
  },
  {
   "cell_type": "code",
   "execution_count": null,
   "id": "aabeaa78",
   "metadata": {
    "scrolled": true
   },
   "outputs": [],
   "source": [
    "stack[0].shape\n",
    "for i in range(len(stack)):\n",
    "    im = stack[i]\n",
    "    print(i)\n",
    "    plt.figure(figsize = (12,12))\n",
    "    plt.imshow(im,cmap ='inferno', vmax = 0.9)\n",
    "    plt.title('left: Photon counts, right: Denoised')\n",
    "    plt.show()"
   ]
  }
 ],
 "metadata": {
  "kernelspec": {
   "display_name": "Python 3 (ipykernel)",
   "language": "python",
   "name": "python3"
  },
  "language_info": {
   "codemirror_mode": {
    "name": "ipython",
    "version": 3
   },
   "file_extension": ".py",
   "mimetype": "text/x-python",
   "name": "python",
   "nbconvert_exporter": "python",
   "pygments_lexer": "ipython3",
   "version": "3.11.5"
  }
 },
 "nbformat": 4,
 "nbformat_minor": 5
}
